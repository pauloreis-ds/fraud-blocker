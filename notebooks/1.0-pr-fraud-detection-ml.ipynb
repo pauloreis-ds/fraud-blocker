{
 "cells": [
  {
   "cell_type": "markdown",
   "id": "62a64a50",
   "metadata": {},
   "source": [
    "_precision_score, recall_score, FNR, FPR_\n",
    "\n",
    "_Save Model With Metrics for final trainig._\n",
    "\n",
    "_Better Explain Evaluation and Business Metric_\n",
    "\n",
    "## Agenda\n",
    "\n",
    "[Cycles](#Cycles)<br>\n",
    "\n",
    "&emsp;[0.0 Imports](#0.0-Imports)<br>\n",
    "&emsp;&emsp;[0.1 Helper Functions](#0.1-Helper-Functions)<br>\n",
    "&emsp;&emsp;[0.2 Loading Data](#0.2-Loading-Data)<br>\n",
    "&emsp;&emsp;[* Split Modeling and Validation Data](#*-Split-Modeling-and-Validation-Data)<br>\n",
    "\n",
    "&emsp;[1.0 Data Preparation](#1.0-Data-Preparation)<br>\n",
    "&emsp;&emsp;[1.1 Rename Columns](#1.1-Rename-Columns)<br>\n",
    "&emsp;&emsp;[1.2 Feature Engineering](#1.2-Feature-Engineering)<br>\n",
    "&emsp;&emsp;&emsp;[1.2.1. customer_type](#1.2.1.-customer_type)<br>\n",
    "&emsp;&emsp;&emsp;[1.2.2. balance_plus](#1.2.2.-balance_plus)<br>\n",
    "&emsp;&emsp;&emsp;[1.2.3. balance_minus](#1.2.3.-balance_minus)<br>\n",
    "&emsp;&emsp;[1.3 Dropping Features](#1.3-Dropping-Features)<br>\n",
    "&emsp;&emsp;[1.4 Feature Encoding](#1.4-Feature-Encoding)<br>\n",
    "&emsp;&emsp;[1.5 Rescaling](#1.5-Rescaling)<br>\n",
    "\n",
    "\n",
    "&emsp;[2.0 Train Test Split](#2.0-Train-Test-Split)<br>\n",
    "\n",
    "&emsp;[3.0 Models](#3.0-Models)<br>\n",
    "&emsp;&emsp;[3.1 LogisticRegression](#3.1-LogisticRegression)<br>\n",
    "&emsp;&emsp;[3.2 RandomForest](#3.2-RandomForest)<br>\n",
    "\n",
    "&emsp;[4.0 Oversampling](#4.0-Oversampling)<br>\n",
    "&emsp;&emsp;[4.1 LogisticRegression](#4.1-LogisticRegression)<br>\n",
    "&emsp;&emsp;[4.2 RandomForest](#4.2-RandomForest)<br>\n",
    "\n",
    "&emsp;[5.0 Validation Data](#5.0-Validation-Data)<br>\n",
    "&emsp;&emsp;[5.1 Evaluation](#5.1-Evaluation)<br>\n",
    "&emsp;&emsp;[5.2 Changing Threshold](#5.2-Changing-Threshold)<br>\n",
    "\n",
    "&emsp;[6.0 Cross Validate (if there's time)](#6.0-Cross-Validate)<br>\n",
    "\n",
    "\n",
    "\n",
    "## Cycles\n",
    "\n",
    "### 1st\n",
    "\n",
    "- **Feature Engineering**: customer_type, balance_plus, balance_minus.\n",
    "\n",
    "- **Dropped Columns:** name_orig, newbalance_orig, name_dest, newbalance_dest.\n",
    "\n",
    "    \n",
    "> **Sample Data:**\n",
    "    \n",
    "            LogisticRegression()\n",
    "                Precision: .22    Recall: .80    F1: .34\n",
    "\n",
    "            RandomForest(min_samples_leaf=5, n_estimators=500)\n",
    "                Precision: 1    Recall: 1    F1: 1\n",
    "\n",
    "\n",
    "        Cross Validation:\n",
    "        \n",
    "            RandomForest(min_samples_leaf=5, n_estimators=500)\n",
    "                Precision: .99    Recall: .99    F1: .99\n",
    "\n",
    "\n",
    "        OverSampling:\n",
    "\n",
    "            LogisticRegression()\n",
    "                Precision: .21    Recall: .79    F1: .34\n",
    "\n",
    "            RandomForest(min_samples_leaf=5, n_estimators=500)\n",
    "                Precision: 1    Recall: 1    F1: 1\n",
    "     \n",
    "     \n",
    "**Validation Set**:\n",
    "        \n",
    "            RandomForest(min_samples_leaf=5, n_estimators=500)\n",
    "                    Precision: .74   Recall: .59   F1: .65\n",
    "    \n",
    "### 2nd\n",
    "\n",
    "- **Also dropping:** is_flagged_fraud, customer_orig_type, customer_dest_type.\n",
    "\n",
    "\n",
    "> **Complete Dataset:**\n",
    "    \n",
    "            LogisticRegression()             \n",
    "\n",
    "                Precision: .01    Recall: .70    F1: .02\n",
    "\n",
    "            RandomForest(min_samples_leaf=5, n_estimators=500)\n",
    "                Precision: 1    Recall: 1     F1: 1\n",
    "        \n",
    "\n",
    "        OverSampling:\n",
    "        \n",
    "            LogisticRegression()  \n",
    "                Precision: .01     Recall: .70    F1: .02 \n",
    "\n",
    "\n",
    "\n",
    "**Validation Set**:\n",
    "        \n",
    "            RandomForest(min_samples_leaf=5, n_estimators=500)\n",
    "                Precision: .99    Recall: .37    F1: .54 "
   ]
  },
  {
   "cell_type": "markdown",
   "id": "06f25fb2",
   "metadata": {},
   "source": [
    "## 0.0 Imports"
   ]
  },
  {
   "cell_type": "code",
   "execution_count": 1,
   "id": "0beba225",
   "metadata": {},
   "outputs": [],
   "source": [
    "from notebook_utils.os import *\n",
    "import pandas as pd\n",
    "import numpy as np\n",
    "import matplotlib.pyplot as plt\n",
    "import inflection\n",
    "\n",
    "from sklearn.preprocessing import RobustScaler\n",
    "from sklearn.preprocessing import LabelEncoder\n",
    "\n",
    "from sklearn.model_selection import train_test_split\n",
    "from imblearn.over_sampling import SMOTE\n",
    "\n",
    "from sklearn.linear_model import LogisticRegression\n",
    "from sklearn.ensemble import RandomForestClassifier\n",
    "\n",
    "from sklearn.metrics import classification_report\n",
    "from sklearn.metrics import plot_confusion_matrix\n",
    "from sklearn.metrics import confusion_matrix\n",
    "\n",
    "from sklearn.metrics import precision_score, recall_score\n",
    "\n",
    "from sklearn.model_selection import cross_validate\n",
    "\n",
    "from IPython.display import Image\n",
    "\n",
    "%matplotlib inline"
   ]
  },
  {
   "cell_type": "code",
   "execution_count": 2,
   "id": "1ab105ed",
   "metadata": {},
   "outputs": [],
   "source": [
    "directory = Directory(\"1.0-pr-fraud-detection-ml\")"
   ]
  },
  {
   "cell_type": "markdown",
   "id": "bbfb608c",
   "metadata": {},
   "source": [
    "### 0.1 Helper Functions"
   ]
  },
  {
   "cell_type": "code",
   "execution_count": 3,
   "id": "be7b3c74",
   "metadata": {},
   "outputs": [],
   "source": [
    "def train_test_model(model, X_train, X_test, y_train, y_test, return_predictions=True):\n",
    "    model.fit(X_train, y_train)\n",
    "    y_pred = model.predict(X_test)\n",
    "    print(classification_report(y_test, y_pred, target_names=['Fraud', 'Non Fraud']))\n",
    "    if return_predictions:\n",
    "        return y_pred"
   ]
  },
  {
   "cell_type": "markdown",
   "id": "47520a0c",
   "metadata": {},
   "source": [
    "### 0.2 Loading Data"
   ]
  },
  {
   "cell_type": "markdown",
   "id": "9d84c932",
   "metadata": {},
   "source": [
    "##### * Split Modeling and Validation Data"
   ]
  },
  {
   "cell_type": "code",
   "execution_count": 4,
   "id": "6bc16228",
   "metadata": {
    "code_folding": []
   },
   "outputs": [],
   "source": [
    "# raw_data = pd.read_csv(join_paths([directory.DATA_DIR, 'raw', 'PS_20174392719_1491204439457_log.csv']))\n",
    "# raw_data.head()\n",
    "\n",
    "# X = raw_data.drop(columns=['isFraud'])\n",
    "# Y = raw_data['isFraud']\n",
    "\n",
    "# x_modeling, x_validation, y_modeling, y_validation = train_test_split(X, Y, test_size=.2, random_state=42)\n",
    "\n",
    "# pd.concat([x_modeling, y_modeling], axis=1).to_csv(join_paths([directory.DATA_DIR, 'raw', 'train.csv']), index=False)\n",
    "# pd.concat([x_validation, y_validation], axis=1).to_csv(join_paths([directory.DATA_DIR, 'raw', 'validation.csv']), index=False)"
   ]
  },
  {
   "cell_type": "markdown",
   "id": "edae2e35",
   "metadata": {},
   "source": [
    "**Loading Training Data**"
   ]
  },
  {
   "cell_type": "code",
   "execution_count": 5,
   "id": "35f79e15",
   "metadata": {},
   "outputs": [
    {
     "name": "stdout",
     "output_type": "stream",
     "text": [
      "Wall time: 52.4 s\n"
     ]
    },
    {
     "data": {
      "text/html": [
       "<div>\n",
       "<style scoped>\n",
       "    .dataframe tbody tr th:only-of-type {\n",
       "        vertical-align: middle;\n",
       "    }\n",
       "\n",
       "    .dataframe tbody tr th {\n",
       "        vertical-align: top;\n",
       "    }\n",
       "\n",
       "    .dataframe thead th {\n",
       "        text-align: right;\n",
       "    }\n",
       "</style>\n",
       "<table border=\"1\" class=\"dataframe\">\n",
       "  <thead>\n",
       "    <tr style=\"text-align: right;\">\n",
       "      <th></th>\n",
       "      <th>step</th>\n",
       "      <th>type</th>\n",
       "      <th>amount</th>\n",
       "      <th>nameOrig</th>\n",
       "      <th>oldbalanceOrg</th>\n",
       "      <th>newbalanceOrig</th>\n",
       "      <th>nameDest</th>\n",
       "      <th>oldbalanceDest</th>\n",
       "      <th>newbalanceDest</th>\n",
       "      <th>isFlaggedFraud</th>\n",
       "      <th>isFraud</th>\n",
       "    </tr>\n",
       "  </thead>\n",
       "  <tbody>\n",
       "    <tr>\n",
       "      <th>0</th>\n",
       "      <td>619</td>\n",
       "      <td>CASH_IN</td>\n",
       "      <td>386385.08</td>\n",
       "      <td>C421351828</td>\n",
       "      <td>4669568.85</td>\n",
       "      <td>5055953.92</td>\n",
       "      <td>C1977099364</td>\n",
       "      <td>506035.06</td>\n",
       "      <td>119649.98</td>\n",
       "      <td>0</td>\n",
       "      <td>0</td>\n",
       "    </tr>\n",
       "    <tr>\n",
       "      <th>1</th>\n",
       "      <td>164</td>\n",
       "      <td>CASH_IN</td>\n",
       "      <td>212458.78</td>\n",
       "      <td>C83569848</td>\n",
       "      <td>234635.00</td>\n",
       "      <td>447093.78</td>\n",
       "      <td>C1690589535</td>\n",
       "      <td>806037.88</td>\n",
       "      <td>593579.10</td>\n",
       "      <td>0</td>\n",
       "      <td>0</td>\n",
       "    </tr>\n",
       "    <tr>\n",
       "      <th>2</th>\n",
       "      <td>382</td>\n",
       "      <td>PAYMENT</td>\n",
       "      <td>19967.60</td>\n",
       "      <td>C852995095</td>\n",
       "      <td>3634.00</td>\n",
       "      <td>0.00</td>\n",
       "      <td>M1695416333</td>\n",
       "      <td>0.00</td>\n",
       "      <td>0.00</td>\n",
       "      <td>0</td>\n",
       "      <td>0</td>\n",
       "    </tr>\n",
       "    <tr>\n",
       "      <th>3</th>\n",
       "      <td>180</td>\n",
       "      <td>CASH_OUT</td>\n",
       "      <td>527616.51</td>\n",
       "      <td>C61761046</td>\n",
       "      <td>180216.00</td>\n",
       "      <td>0.00</td>\n",
       "      <td>C577654587</td>\n",
       "      <td>92157.10</td>\n",
       "      <td>619773.61</td>\n",
       "      <td>0</td>\n",
       "      <td>0</td>\n",
       "    </tr>\n",
       "    <tr>\n",
       "      <th>4</th>\n",
       "      <td>36</td>\n",
       "      <td>TRANSFER</td>\n",
       "      <td>206067.85</td>\n",
       "      <td>C758004147</td>\n",
       "      <td>0.00</td>\n",
       "      <td>0.00</td>\n",
       "      <td>C2143015292</td>\n",
       "      <td>2131494.48</td>\n",
       "      <td>2337562.32</td>\n",
       "      <td>0</td>\n",
       "      <td>0</td>\n",
       "    </tr>\n",
       "  </tbody>\n",
       "</table>\n",
       "</div>"
      ],
      "text/plain": [
       "   step      type     amount    nameOrig  oldbalanceOrg  newbalanceOrig  \\\n",
       "0   619   CASH_IN  386385.08  C421351828     4669568.85      5055953.92   \n",
       "1   164   CASH_IN  212458.78   C83569848      234635.00       447093.78   \n",
       "2   382   PAYMENT   19967.60  C852995095        3634.00            0.00   \n",
       "3   180  CASH_OUT  527616.51   C61761046      180216.00            0.00   \n",
       "4    36  TRANSFER  206067.85  C758004147           0.00            0.00   \n",
       "\n",
       "      nameDest  oldbalanceDest  newbalanceDest  isFlaggedFraud  isFraud  \n",
       "0  C1977099364       506035.06       119649.98               0        0  \n",
       "1  C1690589535       806037.88       593579.10               0        0  \n",
       "2  M1695416333            0.00            0.00               0        0  \n",
       "3   C577654587        92157.10       619773.61               0        0  \n",
       "4  C2143015292      2131494.48      2337562.32               0        0  "
      ]
     },
     "execution_count": 5,
     "metadata": {},
     "output_type": "execute_result"
    }
   ],
   "source": [
    "%%time\n",
    "raw_data = pd.read_csv(join_paths([directory.DATA_DIR, 'raw', 'train.csv']), low_memory=False)\n",
    "raw_data.head()"
   ]
  },
  {
   "cell_type": "markdown",
   "id": "e0190631",
   "metadata": {},
   "source": [
    "## 1.0 Data Preparation"
   ]
  },
  {
   "cell_type": "code",
   "execution_count": 6,
   "id": "d3ae6d3e",
   "metadata": {},
   "outputs": [
    {
     "data": {
      "text/html": [
       "<div>\n",
       "<style scoped>\n",
       "    .dataframe tbody tr th:only-of-type {\n",
       "        vertical-align: middle;\n",
       "    }\n",
       "\n",
       "    .dataframe tbody tr th {\n",
       "        vertical-align: top;\n",
       "    }\n",
       "\n",
       "    .dataframe thead th {\n",
       "        text-align: right;\n",
       "    }\n",
       "</style>\n",
       "<table border=\"1\" class=\"dataframe\">\n",
       "  <thead>\n",
       "    <tr style=\"text-align: right;\">\n",
       "      <th></th>\n",
       "      <th>isFraud</th>\n",
       "      <th>isFraud</th>\n",
       "    </tr>\n",
       "  </thead>\n",
       "  <tbody>\n",
       "    <tr>\n",
       "      <th>0</th>\n",
       "      <td>5083503</td>\n",
       "      <td>0.998705</td>\n",
       "    </tr>\n",
       "    <tr>\n",
       "      <th>1</th>\n",
       "      <td>6593</td>\n",
       "      <td>0.001295</td>\n",
       "    </tr>\n",
       "  </tbody>\n",
       "</table>\n",
       "</div>"
      ],
      "text/plain": [
       "   isFraud   isFraud\n",
       "0  5083503  0.998705\n",
       "1     6593  0.001295"
      ]
     },
     "execution_count": 6,
     "metadata": {},
     "output_type": "execute_result"
    }
   ],
   "source": [
    "# Sample to faster tests\n",
    "df1 = raw_data[raw_data['isFraud'] == False].sample(20000)\n",
    "df2 = raw_data[raw_data['isFraud'] == True].sample(1000)\n",
    "data = pd.concat([df1, df2])\n",
    "\n",
    "\n",
    "# data = raw_data.copy()\n",
    "\n",
    "pd.concat([data['isFraud'].value_counts(), data['isFraud'].value_counts(normalize=True)], axis=1)"
   ]
  },
  {
   "cell_type": "markdown",
   "id": "484eca4b",
   "metadata": {},
   "source": [
    "### 1.1 Rename Columns"
   ]
  },
  {
   "cell_type": "code",
   "execution_count": 7,
   "id": "726b270a",
   "metadata": {},
   "outputs": [],
   "source": [
    "snakecase = lambda x: inflection.underscore(x)\n",
    "data.columns = map(snakecase, data.columns)"
   ]
  },
  {
   "cell_type": "markdown",
   "id": "149bfe8b",
   "metadata": {},
   "source": [
    "### 1.2 Feature Engineering"
   ]
  },
  {
   "cell_type": "markdown",
   "id": "dec2a9f1",
   "metadata": {},
   "source": [
    "#### 1.2.1. customer_type\n",
    "\n",
    "_\"Note that there is not information for customers that start with M (Merchants).\"_\n",
    "\n",
    "M = Merchants\n",
    "\n",
    "C = Clients?"
   ]
  },
  {
   "cell_type": "code",
   "execution_count": 8,
   "id": "2a8af37a",
   "metadata": {
    "scrolled": true
   },
   "outputs": [],
   "source": [
    "data['customer_orig_type'] = data['name_orig'].apply(lambda string: string[0])\n",
    "data['customer_dest_type'] = data['name_dest'].apply(lambda string: string[0])"
   ]
  },
  {
   "cell_type": "markdown",
   "id": "644cd5a3",
   "metadata": {},
   "source": [
    "#### 1.2.2. balance_plus"
   ]
  },
  {
   "cell_type": "code",
   "execution_count": 9,
   "id": "cf84d431",
   "metadata": {},
   "outputs": [],
   "source": [
    "data['balance_plus_orig'] = data['oldbalance_org'] + data['amount']\n",
    "data['balance_plus_dest'] = data['oldbalance_dest'] + data['amount']"
   ]
  },
  {
   "cell_type": "markdown",
   "id": "31a2475b",
   "metadata": {},
   "source": [
    "#### 1.2.3. balance_minus"
   ]
  },
  {
   "cell_type": "code",
   "execution_count": 10,
   "id": "2f07d422",
   "metadata": {},
   "outputs": [],
   "source": [
    "data['balance_minus_orig'] =  data['oldbalance_org'] - data['amount']\n",
    "data['balance_minus_dest'] = data['oldbalance_dest'] - data['amount']"
   ]
  },
  {
   "cell_type": "markdown",
   "id": "6b290a25",
   "metadata": {},
   "source": [
    "### 1.3 Dropping Features"
   ]
  },
  {
   "cell_type": "markdown",
   "id": "da7e8f0b",
   "metadata": {},
   "source": [
    "> **Delete Features We can't use such as ID, Name...**\n",
    "\n",
    "**nameOrig** - customer who started the transaction<br>\n",
    "**nameDest** - customer who is the recipient of the transaction<br>\n",
    "\n",
    "\n",
    "    We don't have these information at prediction time.\n",
    "    We could estimate them by adding or subtracting the transaction amount from balance, \n",
    "    but first, We would have to know if this is a valid option, since there are data as:\n",
    "    \n",
    "    type   - PAYMENT \n",
    "    amount - 2459.70\n",
    "    oldbalanceOrg  - 0\n",
    "    newbalanceOrig - 0\n",
    "    oldbalanceDest - 0\n",
    "    newbalanceDest - 0\n",
    "    isFraud - False\n",
    "    \n",
    "    Let's try modeling without them first. And if needed, We'll analyze the data again to \n",
    "    confirm that option.\n",
    "    \n",
    "**newbalanceOrig** - new balance after the transaction<br>\n",
    "**newbalanceDest** - new balance recipient after the transaction. Note that there is not information for customers that start with M (Merchants).<br>"
   ]
  },
  {
   "cell_type": "code",
   "execution_count": 11,
   "id": "c8cd77d7",
   "metadata": {},
   "outputs": [],
   "source": [
    "to_drop = ['name_orig', 'newbalance_orig', 'name_dest', 'newbalance_dest', \n",
    "           'is_flagged_fraud', 'customer_orig_type', 'customer_dest_type']\n",
    "data.drop(columns=to_drop, inplace=True)"
   ]
  },
  {
   "cell_type": "markdown",
   "id": "48fff14b",
   "metadata": {},
   "source": [
    "### 1.4 Feature Encoding"
   ]
  },
  {
   "cell_type": "code",
   "execution_count": 12,
   "id": "029bebd1",
   "metadata": {},
   "outputs": [],
   "source": [
    "type_encoder = LabelEncoder()\n",
    "# customer_orig_type_encoder = LabelEncoder()\n",
    "# customer_dest_type_encoder = LabelEncoder()\n",
    "\n",
    "data['type'] = type_encoder.fit_transform( data['type'] )\n",
    "# data['customer_orig_type'] = customer_orig_type_encoder.fit_transform( data['customer_orig_type'] )\n",
    "# data['customer_dest_type'] = customer_dest_type_encoder.fit_transform( data['customer_dest_type'] )"
   ]
  },
  {
   "cell_type": "markdown",
   "id": "7e4c603d",
   "metadata": {},
   "source": [
    "### 1.5 Rescaling"
   ]
  },
  {
   "cell_type": "code",
   "execution_count": 13,
   "id": "ff46d913",
   "metadata": {},
   "outputs": [],
   "source": [
    "robust_scaler = RobustScaler()\n",
    "cols = data.columns\n",
    "data = robust_scaler.fit_transform(data)\n",
    "data = pd.DataFrame(data, columns=cols)"
   ]
  },
  {
   "cell_type": "markdown",
   "id": "3a82be18",
   "metadata": {},
   "source": [
    "## 2.0 Train Test Split"
   ]
  },
  {
   "cell_type": "code",
   "execution_count": 14,
   "id": "e6da019c",
   "metadata": {},
   "outputs": [],
   "source": [
    "X = data.drop(columns=['is_fraud'])\n",
    "y = data['is_fraud']\n",
    "\n",
    "X_train, X_test, y_train, y_test = train_test_split(X, y, test_size=0.3, random_state=42)"
   ]
  },
  {
   "cell_type": "code",
   "execution_count": 15,
   "id": "ad6becc0",
   "metadata": {},
   "outputs": [
    {
     "data": {
      "text/html": [
       "<div>\n",
       "<style scoped>\n",
       "    .dataframe tbody tr th:only-of-type {\n",
       "        vertical-align: middle;\n",
       "    }\n",
       "\n",
       "    .dataframe tbody tr th {\n",
       "        vertical-align: top;\n",
       "    }\n",
       "\n",
       "    .dataframe thead th {\n",
       "        text-align: right;\n",
       "    }\n",
       "</style>\n",
       "<table border=\"1\" class=\"dataframe\">\n",
       "  <thead>\n",
       "    <tr style=\"text-align: right;\">\n",
       "      <th></th>\n",
       "      <th>is_fraud</th>\n",
       "      <th>is_fraud</th>\n",
       "    </tr>\n",
       "  </thead>\n",
       "  <tbody>\n",
       "    <tr>\n",
       "      <th>0.0</th>\n",
       "      <td>3558447</td>\n",
       "      <td>0.998703</td>\n",
       "    </tr>\n",
       "    <tr>\n",
       "      <th>1.0</th>\n",
       "      <td>4620</td>\n",
       "      <td>0.001297</td>\n",
       "    </tr>\n",
       "  </tbody>\n",
       "</table>\n",
       "</div>"
      ],
      "text/plain": [
       "     is_fraud  is_fraud\n",
       "0.0   3558447  0.998703\n",
       "1.0      4620  0.001297"
      ]
     },
     "execution_count": 15,
     "metadata": {},
     "output_type": "execute_result"
    }
   ],
   "source": [
    "pd.concat([y_train.value_counts(), y_train.value_counts(normalize=True)], axis=1)"
   ]
  },
  {
   "cell_type": "code",
   "execution_count": 16,
   "id": "b8ee1e9a",
   "metadata": {},
   "outputs": [
    {
     "data": {
      "text/html": [
       "<div>\n",
       "<style scoped>\n",
       "    .dataframe tbody tr th:only-of-type {\n",
       "        vertical-align: middle;\n",
       "    }\n",
       "\n",
       "    .dataframe tbody tr th {\n",
       "        vertical-align: top;\n",
       "    }\n",
       "\n",
       "    .dataframe thead th {\n",
       "        text-align: right;\n",
       "    }\n",
       "</style>\n",
       "<table border=\"1\" class=\"dataframe\">\n",
       "  <thead>\n",
       "    <tr style=\"text-align: right;\">\n",
       "      <th></th>\n",
       "      <th>is_fraud</th>\n",
       "      <th>is_fraud</th>\n",
       "    </tr>\n",
       "  </thead>\n",
       "  <tbody>\n",
       "    <tr>\n",
       "      <th>0.0</th>\n",
       "      <td>1525056</td>\n",
       "      <td>0.998708</td>\n",
       "    </tr>\n",
       "    <tr>\n",
       "      <th>1.0</th>\n",
       "      <td>1973</td>\n",
       "      <td>0.001292</td>\n",
       "    </tr>\n",
       "  </tbody>\n",
       "</table>\n",
       "</div>"
      ],
      "text/plain": [
       "     is_fraud  is_fraud\n",
       "0.0   1525056  0.998708\n",
       "1.0      1973  0.001292"
      ]
     },
     "execution_count": 16,
     "metadata": {},
     "output_type": "execute_result"
    }
   ],
   "source": [
    "pd.concat([y_test.value_counts(), y_test.value_counts(normalize=True)], axis=1)"
   ]
  },
  {
   "cell_type": "markdown",
   "id": "3f606346",
   "metadata": {},
   "source": [
    "## 3.0 Models"
   ]
  },
  {
   "cell_type": "markdown",
   "id": "4e874fc3",
   "metadata": {},
   "source": [
    "### 3.1 LogisticRegression"
   ]
  },
  {
   "cell_type": "code",
   "execution_count": 17,
   "id": "024884da",
   "metadata": {},
   "outputs": [
    {
     "name": "stdout",
     "output_type": "stream",
     "text": [
      "              precision    recall  f1-score   support\n",
      "\n",
      "       Fraud       1.00      0.89      0.94   1525056\n",
      "   Non Fraud       0.01      0.70      0.02      1973\n",
      "\n",
      "    accuracy                           0.89   1527029\n",
      "   macro avg       0.50      0.80      0.48   1527029\n",
      "weighted avg       1.00      0.89      0.94   1527029\n",
      "\n",
      "Wall time: 51.9 s\n"
     ]
    }
   ],
   "source": [
    "%%time \n",
    "# Sample 189ms\n",
    "\n",
    "lr = LogisticRegression(random_state=42, class_weight='balanced', max_iter=500)\n",
    "train_test_model(lr, X_train, X_test, y_train, y_test, return_predictions=False)"
   ]
  },
  {
   "cell_type": "markdown",
   "id": "074f9e67",
   "metadata": {},
   "source": [
    "### 3.2 RandomForest"
   ]
  },
  {
   "cell_type": "code",
   "execution_count": 18,
   "id": "90aa6119",
   "metadata": {},
   "outputs": [
    {
     "name": "stdout",
     "output_type": "stream",
     "text": [
      "              precision    recall  f1-score   support\n",
      "\n",
      "       Fraud       1.00      1.00      1.00   1525056\n",
      "   Non Fraud       1.00      1.00      1.00      1973\n",
      "\n",
      "    accuracy                           1.00   1527029\n",
      "   macro avg       1.00      1.00      1.00   1527029\n",
      "weighted avg       1.00      1.00      1.00   1527029\n",
      "\n",
      "Wall time: 1h 57min 17s\n"
     ]
    }
   ],
   "source": [
    "%%time \n",
    "# Sample 6.4s\n",
    "\n",
    "rf = RandomForestClassifier(n_jobs=-1, random_state=42, min_samples_leaf=5, n_estimators=500)\n",
    "train_test_model(rf, X_train, X_test, y_train, y_test, return_predictions=False)"
   ]
  },
  {
   "cell_type": "code",
   "execution_count": 19,
   "id": "551673d7",
   "metadata": {},
   "outputs": [
    {
     "data": {
      "image/png": "[encoded data removed]",
      "text/plain": [
       "<Figure size 432x288 with 1 Axes>"
      ]
     },
     "metadata": {
      "needs_background": "light"
     },
     "output_type": "display_data"
    }
   ],
   "source": [
    "feature_importances = pd.Series(rf.feature_importances_, index=X_train.columns).sort_values()\n",
    "feature_importances.plot.barh();"
   ]
  },
  {
   "cell_type": "code",
   "execution_count": 20,
   "id": "2b9359e2",
   "metadata": {},
   "outputs": [
    {
     "data": {
      "image/png": "[encoded data removed]",
      "text/plain": [
       "<IPython.core.display.Image object>"
      ]
     },
     "execution_count": 20,
     "metadata": {},
     "output_type": "execute_result"
    }
   ],
   "source": [
    "Image(join_paths([directory.BASE_DIR, \"images\", \"feature_importances_sample_data_cycle1.PNG\"]))"
   ]
  },
  {
   "cell_type": "markdown",
   "id": "049e75ba",
   "metadata": {},
   "source": [
    "## 4.0 Oversampling"
   ]
  },
  {
   "cell_type": "code",
   "execution_count": 21,
   "id": "2505fdfe",
   "metadata": {},
   "outputs": [],
   "source": [
    "oversample = SMOTE(sampling_strategy=.6)\n",
    "X_train_over, y_train_over = oversample.fit_resample(X_train, y_train)"
   ]
  },
  {
   "cell_type": "markdown",
   "id": "9fac35ba",
   "metadata": {},
   "source": [
    "**Target Percentage**"
   ]
  },
  {
   "cell_type": "code",
   "execution_count": 22,
   "id": "7ae978f3",
   "metadata": {},
   "outputs": [
    {
     "data": {
      "text/plain": [
       "0.0012966357354492633"
      ]
     },
     "execution_count": 22,
     "metadata": {},
     "output_type": "execute_result"
    }
   ],
   "source": [
    "y_train.sum() / len(y_train)"
   ]
  },
  {
   "cell_type": "code",
   "execution_count": 23,
   "id": "cb1af770",
   "metadata": {},
   "outputs": [
    {
     "data": {
      "text/plain": [
       "0.374999978045197"
      ]
     },
     "execution_count": 23,
     "metadata": {},
     "output_type": "execute_result"
    }
   ],
   "source": [
    "y_train_over.sum() / len(y_train_over)"
   ]
  },
  {
   "cell_type": "markdown",
   "id": "2417d54d",
   "metadata": {},
   "source": [
    "#### Undersampling"
   ]
  },
  {
   "cell_type": "markdown",
   "id": "85fefea2",
   "metadata": {},
   "source": [
    "### 4.1 LogisticRegression"
   ]
  },
  {
   "cell_type": "code",
   "execution_count": 24,
   "id": "03f2463e",
   "metadata": {},
   "outputs": [],
   "source": [
    "# lr_over = LogisticRegression(random_state=42, class_weight='balanced', max_iter=500)\n",
    "# train_test_model(lr_over, X_train_over, X_test, y_train_over, y_test, return_predictions=False)"
   ]
  },
  {
   "cell_type": "markdown",
   "id": "cfc237f2",
   "metadata": {},
   "source": [
    "### 4.2 RandomForest"
   ]
  },
  {
   "cell_type": "code",
   "execution_count": 25,
   "id": "737ebd58",
   "metadata": {},
   "outputs": [],
   "source": [
    "# rf_over = RandomForestClassifier(n_jobs=-1, random_state=42, min_samples_leaf=5, n_estimators=500)\n",
    "# train_test_model(rf_over, X_train_over, X_test, y_train_over, y_test, return_predictions=False)"
   ]
  },
  {
   "cell_type": "code",
   "execution_count": 26,
   "id": "5d21ee43",
   "metadata": {},
   "outputs": [],
   "source": [
    "# pd.Series(rf_over.feature_importances_, index=X_train_over.columns).sort_values().plot.barh();"
   ]
  },
  {
   "cell_type": "markdown",
   "id": "8420fafa",
   "metadata": {},
   "source": [
    "## 5.0 Validation Data"
   ]
  },
  {
   "cell_type": "code",
   "execution_count": 27,
   "id": "30549d88",
   "metadata": {},
   "outputs": [
    {
     "data": {
      "text/html": [
       "<div>\n",
       "<style scoped>\n",
       "    .dataframe tbody tr th:only-of-type {\n",
       "        vertical-align: middle;\n",
       "    }\n",
       "\n",
       "    .dataframe tbody tr th {\n",
       "        vertical-align: top;\n",
       "    }\n",
       "\n",
       "    .dataframe thead th {\n",
       "        text-align: right;\n",
       "    }\n",
       "</style>\n",
       "<table border=\"1\" class=\"dataframe\">\n",
       "  <thead>\n",
       "    <tr style=\"text-align: right;\">\n",
       "      <th></th>\n",
       "      <th>step</th>\n",
       "      <th>type</th>\n",
       "      <th>amount</th>\n",
       "      <th>nameOrig</th>\n",
       "      <th>oldbalanceOrg</th>\n",
       "      <th>newbalanceOrig</th>\n",
       "      <th>nameDest</th>\n",
       "      <th>oldbalanceDest</th>\n",
       "      <th>newbalanceDest</th>\n",
       "      <th>isFlaggedFraud</th>\n",
       "      <th>isFraud</th>\n",
       "    </tr>\n",
       "  </thead>\n",
       "  <tbody>\n",
       "    <tr>\n",
       "      <th>0</th>\n",
       "      <td>278</td>\n",
       "      <td>CASH_IN</td>\n",
       "      <td>330218.42</td>\n",
       "      <td>C632336343</td>\n",
       "      <td>20866.00</td>\n",
       "      <td>351084.42</td>\n",
       "      <td>C834976624</td>\n",
       "      <td>452419.57</td>\n",
       "      <td>122201.15</td>\n",
       "      <td>0</td>\n",
       "      <td>0</td>\n",
       "    </tr>\n",
       "    <tr>\n",
       "      <th>1</th>\n",
       "      <td>15</td>\n",
       "      <td>PAYMENT</td>\n",
       "      <td>11647.08</td>\n",
       "      <td>C1264712553</td>\n",
       "      <td>30370.00</td>\n",
       "      <td>18722.92</td>\n",
       "      <td>M215391829</td>\n",
       "      <td>0.00</td>\n",
       "      <td>0.00</td>\n",
       "      <td>0</td>\n",
       "      <td>0</td>\n",
       "    </tr>\n",
       "    <tr>\n",
       "      <th>2</th>\n",
       "      <td>10</td>\n",
       "      <td>CASH_IN</td>\n",
       "      <td>152264.21</td>\n",
       "      <td>C1746846248</td>\n",
       "      <td>106589.00</td>\n",
       "      <td>258853.21</td>\n",
       "      <td>C1607284477</td>\n",
       "      <td>201303.01</td>\n",
       "      <td>49038.80</td>\n",
       "      <td>0</td>\n",
       "      <td>0</td>\n",
       "    </tr>\n",
       "    <tr>\n",
       "      <th>3</th>\n",
       "      <td>403</td>\n",
       "      <td>TRANSFER</td>\n",
       "      <td>1551760.63</td>\n",
       "      <td>C333676753</td>\n",
       "      <td>0.00</td>\n",
       "      <td>0.00</td>\n",
       "      <td>C1564353608</td>\n",
       "      <td>3198359.45</td>\n",
       "      <td>4750120.08</td>\n",
       "      <td>0</td>\n",
       "      <td>0</td>\n",
       "    </tr>\n",
       "    <tr>\n",
       "      <th>4</th>\n",
       "      <td>206</td>\n",
       "      <td>CASH_IN</td>\n",
       "      <td>78172.30</td>\n",
       "      <td>C813403091</td>\n",
       "      <td>2921331.58</td>\n",
       "      <td>2999503.88</td>\n",
       "      <td>C1091768874</td>\n",
       "      <td>415821.90</td>\n",
       "      <td>337649.60</td>\n",
       "      <td>0</td>\n",
       "      <td>0</td>\n",
       "    </tr>\n",
       "  </tbody>\n",
       "</table>\n",
       "</div>"
      ],
      "text/plain": [
       "   step      type      amount     nameOrig  oldbalanceOrg  newbalanceOrig  \\\n",
       "0   278   CASH_IN   330218.42   C632336343       20866.00       351084.42   \n",
       "1    15   PAYMENT    11647.08  C1264712553       30370.00        18722.92   \n",
       "2    10   CASH_IN   152264.21  C1746846248      106589.00       258853.21   \n",
       "3   403  TRANSFER  1551760.63   C333676753           0.00            0.00   \n",
       "4   206   CASH_IN    78172.30   C813403091     2921331.58      2999503.88   \n",
       "\n",
       "      nameDest  oldbalanceDest  newbalanceDest  isFlaggedFraud  isFraud  \n",
       "0   C834976624       452419.57       122201.15               0        0  \n",
       "1   M215391829            0.00            0.00               0        0  \n",
       "2  C1607284477       201303.01        49038.80               0        0  \n",
       "3  C1564353608      3198359.45      4750120.08               0        0  \n",
       "4  C1091768874       415821.90       337649.60               0        0  "
      ]
     },
     "execution_count": 27,
     "metadata": {},
     "output_type": "execute_result"
    }
   ],
   "source": [
    "validation = pd.read_csv(join_paths([directory.DATA_DIR, 'raw', 'validation.csv']), low_memory=False)\n",
    "validation.head()"
   ]
  },
  {
   "cell_type": "code",
   "execution_count": 28,
   "id": "5e314f96",
   "metadata": {},
   "outputs": [],
   "source": [
    "snakecase = lambda x: inflection.underscore(x)\n",
    "validation.columns = map(snakecase, validation.columns)"
   ]
  },
  {
   "cell_type": "markdown",
   "id": "f7d86137",
   "metadata": {},
   "source": [
    "**Feature Engineering**"
   ]
  },
  {
   "cell_type": "code",
   "execution_count": 29,
   "id": "38ee8d53",
   "metadata": {},
   "outputs": [],
   "source": [
    "validation['customer_orig_type'] = validation['name_orig'].apply(lambda string: string[0])\n",
    "validation['customer_dest_type'] = validation['name_dest'].apply(lambda string: string[0])\n",
    "\n",
    "validation['balance_plus_orig'] = validation['oldbalance_org'] + validation['amount']\n",
    "validation['balance_plus_dest'] = validation['oldbalance_dest'] + validation['amount']\n",
    "\n",
    "validation['balance_minus_orig'] =  validation['oldbalance_org'] - validation['amount']\n",
    "validation['balance_minus_dest'] = validation['oldbalance_dest'] - validation['amount']"
   ]
  },
  {
   "cell_type": "code",
   "execution_count": 30,
   "id": "05b1d0b6",
   "metadata": {},
   "outputs": [],
   "source": [
    "validation.drop(columns=to_drop, inplace=True)"
   ]
  },
  {
   "cell_type": "markdown",
   "id": "5b9262ed",
   "metadata": {},
   "source": [
    "**Feature Transformation**"
   ]
  },
  {
   "cell_type": "code",
   "execution_count": 31,
   "id": "3b564562",
   "metadata": {},
   "outputs": [],
   "source": [
    "validation['type'] = type_encoder.transform( validation['type'] )\n",
    "# validation['customer_orig_type'] = customer_orig_type_encoder.transform( validation['customer_orig_type'] )\n",
    "# validation['customer_dest_type'] = customer_dest_type_encoder.transform( validation['customer_dest_type'] )\n",
    "\n",
    "cols = validation.columns\n",
    "validation = robust_scaler.fit_transform(validation)\n",
    "validation = pd.DataFrame(validation, columns=cols)"
   ]
  },
  {
   "cell_type": "markdown",
   "id": "d6f90dc2",
   "metadata": {},
   "source": [
    "### 5.1 Evaluation"
   ]
  },
  {
   "cell_type": "code",
   "execution_count": 32,
   "id": "ae11e62d",
   "metadata": {},
   "outputs": [],
   "source": [
    "X_valid, y_valid = validation.drop(columns=[\"is_fraud\"]), validation[\"is_fraud\"]"
   ]
  },
  {
   "cell_type": "code",
   "execution_count": 33,
   "id": "0efb137b",
   "metadata": {},
   "outputs": [
    {
     "name": "stdout",
     "output_type": "stream",
     "text": [
      "              precision    recall  f1-score   support\n",
      "\n",
      "         0.0       1.00      1.00      1.00   1270904\n",
      "         1.0       1.00      0.37      0.54      1620\n",
      "\n",
      "    accuracy                           1.00   1272524\n",
      "   macro avg       1.00      0.69      0.77   1272524\n",
      "weighted avg       1.00      1.00      1.00   1272524\n",
      "\n"
     ]
    }
   ],
   "source": [
    "predictions = rf.predict(X_valid)\n",
    "print(classification_report(y_valid, predictions))"
   ]
  },
  {
   "cell_type": "code",
   "execution_count": 45,
   "id": "6f35baa4",
   "metadata": {},
   "outputs": [
    {
     "name": "stdout",
     "output_type": "stream",
     "text": [
      "Transactions\n"
     ]
    },
    {
     "data": {
      "image/png": "[encoded data removed]",
      "text/plain": [
       "<Figure size 432x288 with 2 Axes>"
      ]
     },
     "metadata": {
      "needs_background": "light"
     },
     "output_type": "display_data"
    }
   ],
   "source": [
    "print(\"Transactions\")\n",
    "plot_confusion_matrix(rf, X_valid, y_valid, values_format='d', display_labels=['Legitimate', 'Frauds'], cmap='Blues')\n",
    "plt.show()"
   ]
  },
  {
   "cell_type": "code",
   "execution_count": 47,
   "id": "d6278095",
   "metadata": {},
   "outputs": [],
   "source": [
    "tn, fp, fn, tp = confusion_matrix(y_valid, predictions).ravel()"
   ]
  },
  {
   "cell_type": "code",
   "execution_count": 49,
   "id": "7a33442b",
   "metadata": {},
   "outputs": [
    {
     "data": {
      "text/plain": [
       "0.6265432098765432"
      ]
     },
     "execution_count": 49,
     "metadata": {},
     "output_type": "execute_result"
    }
   ],
   "source": [
    "# False Negative Rate\n",
    "fn / (fn+tp)"
   ]
  },
  {
   "cell_type": "markdown",
   "id": "49e0e7e6",
   "metadata": {},
   "source": [
    "### 5.2 Changing Threshold"
   ]
  },
  {
   "cell_type": "code",
   "execution_count": 37,
   "id": "e423347e",
   "metadata": {},
   "outputs": [],
   "source": [
    "proba = rf.predict_proba(X_valid)"
   ]
  },
  {
   "cell_type": "code",
   "execution_count": 38,
   "id": "7a5ddbd8",
   "metadata": {},
   "outputs": [],
   "source": [
    "threshold = pd.concat([y_valid.reset_index(), pd.Series(predictions, name='prediction') , pd.Series(proba[:,1], name='fraud_probability')], axis=1)\n",
    "threshold['final_prediction'] = threshold['fraud_probability'].apply(lambda proba: 1 if proba > .75 else 0)"
   ]
  },
  {
   "cell_type": "code",
   "execution_count": 39,
   "id": "5076eb14",
   "metadata": {},
   "outputs": [
    {
     "name": "stdout",
     "output_type": "stream",
     "text": [
      "              precision    recall  f1-score   support\n",
      "\n",
      "         0.0       1.00      1.00      1.00   1270904\n",
      "         1.0       1.00      0.19      0.31      1620\n",
      "\n",
      "    accuracy                           1.00   1272524\n",
      "   macro avg       1.00      0.59      0.66   1272524\n",
      "weighted avg       1.00      1.00      1.00   1272524\n",
      "\n"
     ]
    }
   ],
   "source": [
    "print(classification_report(y_valid, threshold['final_prediction']))"
   ]
  },
  {
   "cell_type": "code",
   "execution_count": 40,
   "id": "f2c90c9a",
   "metadata": {},
   "outputs": [
    {
     "name": "stdout",
     "output_type": "stream",
     "text": [
      "Transactions\n"
     ]
    },
    {
     "data": {
      "text/plain": [
       "array([[1270903,       1],\n",
       "       [   1318,     302]], dtype=int64)"
      ]
     },
     "execution_count": 40,
     "metadata": {},
     "output_type": "execute_result"
    }
   ],
   "source": [
    "print(\"Transactions\")\n",
    "confusion_matrix(y_valid, threshold['final_prediction'])"
   ]
  },
  {
   "cell_type": "code",
   "execution_count": 54,
   "id": "4bc8c0a1",
   "metadata": {},
   "outputs": [],
   "source": [
    "tn, fp, fn, tp = confusion_matrix(y_valid, threshold['final_prediction']).ravel()"
   ]
  },
  {
   "cell_type": "code",
   "execution_count": 55,
   "id": "34cb5289",
   "metadata": {},
   "outputs": [
    {
     "data": {
      "text/plain": [
       "0.8135802469135802"
      ]
     },
     "execution_count": 55,
     "metadata": {},
     "output_type": "execute_result"
    }
   ],
   "source": [
    "# False Negative Rate\n",
    "fn / (fn+tp)"
   ]
  },
  {
   "cell_type": "markdown",
   "id": "ab06c926",
   "metadata": {},
   "source": [
    "## 6.0 Cross Validate \n",
    "\n",
    "We can do this if We have enough time."
   ]
  },
  {
   "cell_type": "code",
   "execution_count": 43,
   "id": "61df78cf",
   "metadata": {},
   "outputs": [],
   "source": [
    "# scores = cross_validate(rf, X, y, cv=10, scoring=('precision', 'recall', 'f1'), n_jobs=-1)\n",
    "# scores = pd.DataFrame(scores)\n",
    "\n",
    "# scores = pd.concat([pd.DataFrame(scores.mean(), columns=['mean']).T, scores])\n",
    "# scores"
   ]
  }
 ],
 "metadata": {
  "kernelspec": {
   "display_name": "Python 3",
   "language": "python",
   "name": "python3"
  },
  "language_info": {
   "codemirror_mode": {
    "name": "ipython",
    "version": 3
   },
   "file_extension": ".py",
   "mimetype": "text/x-python",
   "name": "python",
   "nbconvert_exporter": "python",
   "pygments_lexer": "ipython3",
   "version": "3.8.5"
  }
 },
 "nbformat": 4,
 "nbformat_minor": 5
}
